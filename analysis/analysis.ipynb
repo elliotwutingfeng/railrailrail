{
 "cells": [
  {
   "cell_type": "code",
   "execution_count": 1,
   "metadata": {},
   "outputs": [],
   "source": [
    "import multiprocessing\n",
    "import psutil\n",
    "import sys\n",
    "\n",
    "import geopandas as gpd\n",
    "import shapely.geometry\n",
    "import pandas as pd\n",
    "import plotly.express as px\n",
    "\n",
    "\n",
    "from railrailrail.network.stage import Stage\n",
    "from railrailrail.railgraph import RailGraph\n",
    "\n",
    "from analysis.analysis_helpers import get_stage_journeys\n",
    "\n",
    "# Do not truncate DataFrames\n",
    "pd.set_option(\"display.max_rows\", None)\n",
    "pd.set_option(\"display.max_columns\", None)\n",
    "pd.set_option(\"display.width\", None)\n",
    "pd.set_option(\"display.max_colwidth\", None)\n",
    "\n",
    "minimum_available_ram_GB = 3\n",
    "if psutil.virtual_memory().available < minimum_available_ram_GB * 1e9:\n",
    "    print(\n",
    "        \"Warning: Less than %dGB RAM available. This program may crash with an Out-Of-Memory error.\"\n",
    "        % minimum_available_ram_GB,\n",
    "        file=sys.stderr,\n",
    "    )\n",
    "\n",
    "\n",
    "def make_stage_journeys_dataframe(stage: str, journeys: dict):\n",
    "    df = (\n",
    "        pd.DataFrame.from_dict(\n",
    "            journeys,\n",
    "            orient=\"index\",\n",
    "            columns=[\n",
    "                \"path_distance\",\n",
    "                \"haversine_distance\",\n",
    "                \"nodes\",\n",
    "                \"edges\",\n",
    "                \"costs\",\n",
    "                \"total_cost\",\n",
    "            ],\n",
    "        )\n",
    "        .reset_index()\n",
    "        .rename(columns={\"index\": \"journey\"})\n",
    "    )\n",
    "\n",
    "    df[[\"start\", \"end\"]] = pd.DataFrame(df[\"journey\"].tolist(), index=df.index)\n",
    "    df.drop(columns=[\"journey\"], inplace=True)\n",
    "\n",
    "    df[\"circuity\"] = df[\"path_distance\"] / df[\"haversine_distance\"]\n",
    "\n",
    "    df.sort_values(\n",
    "        by=[\"circuity\", \"haversine_distance\", \"path_distance\", \"start\", \"end\"],\n",
    "        inplace=True,\n",
    "    )\n",
    "\n",
    "    df.name = stage\n",
    "    return df\n",
    "\n",
    "\n",
    "def get_mean_distances_per_station(\n",
    "    df: pd.DataFrame, rail_graph: RailGraph\n",
    ") -> pd.DataFrame:\n",
    "    df = df.query(\n",
    "        \"total_cost != 0\"\n",
    "    )  # Remove trips between stations from the same interchange.\n",
    "    df = (\n",
    "        df.groupby(\"start\")\n",
    "        .agg(\n",
    "            {\"circuity\": \"mean\", \"path_distance\": \"mean\", \"haversine_distance\": \"mean\"}\n",
    "        )\n",
    "        .reset_index(0)\n",
    "    )\n",
    "    df.rename(\n",
    "        columns={\n",
    "            \"path_distance\": \"mean_path_distance\",\n",
    "            \"haversine_distance\": \"mean_haversine_distance\",\n",
    "            \"circuity\": \"mean_circuity\",\n",
    "        },\n",
    "        inplace=True,\n",
    "    )\n",
    "    df[\"station_name\"] = df[\"start\"].apply(\n",
    "        lambda station_code: rail_graph.station_code_to_station[\n",
    "            station_code\n",
    "        ].station_name\n",
    "    )\n",
    "    df = df[\n",
    "        [\n",
    "            \"start\",\n",
    "            \"station_name\",\n",
    "            \"mean_path_distance\",\n",
    "            \"mean_haversine_distance\",\n",
    "            \"mean_circuity\",\n",
    "        ]\n",
    "    ]\n",
    "    return df\n",
    "\n",
    "\n",
    "def contains_point(\n",
    "    polygon: shapely.geometry.polygon.Polygon, lat: float, lon: float\n",
    ") -> bool:\n",
    "    return polygon.contains(shapely.geometry.Point(lon, lat))\n",
    "\n",
    "\n",
    "planning_areas = gpd.read_file(\"MasterPlan2019PlanningAreaBoundaryNoSea.geojson\")\n",
    "planning_areas[\"Planning Area\"] = planning_areas[\"Description\"].apply(\n",
    "    lambda description: description.split(\"<td>\", 1)[-1].split(\"</td>\", 1)[0].strip()\n",
    ")\n",
    "\n",
    "\n",
    "stages = list(Stage.stages)\n",
    "journeys_by_stage: dict[str, dict[str, pd.DataFrame | RailGraph]] = dict()\n",
    "mean_distances_per_station_by_stage: dict[str, pd.DataFrame] = dict()\n",
    "\n",
    "\n",
    "with multiprocessing.get_context(\"fork\").Pool(\n",
    "    None\n",
    ") as pool:  # https://bugs.python.org/issue33725 https://stackoverflow.com/a/72605750\n",
    "    for stage, journeys, rail_graph in pool.imap_unordered(get_stage_journeys, stages):\n",
    "        journeys_by_stage[stage] = {\n",
    "            \"df\": make_stage_journeys_dataframe(stage, journeys),\n",
    "            \"rail_graph\": rail_graph,\n",
    "        }\n",
    "        mean_distances_per_station_by_stage[stage] = get_mean_distances_per_station(\n",
    "            df=journeys_by_stage[stage][\"df\"],\n",
    "            rail_graph=journeys_by_stage[stage][\"rail_graph\"],\n",
    "        )\n",
    "        # Stations within interchanges have different geographic coordinates.\n",
    "        # This causes them to have different mean circuity. For example, see BP1/NS4/JS1 Choa Chu Kang.\n",
    "\n",
    "        mean_distances_per_station_by_stage[stage][\n",
    "            \"planning_area\"\n",
    "        ] = mean_distances_per_station_by_stage[stage][\"start\"].apply(\n",
    "            lambda start: next(\n",
    "                (\n",
    "                    feature[\"Planning Area\"]\n",
    "                    for _, feature in planning_areas.iterrows()\n",
    "                    if contains_point(\n",
    "                        feature[\"geometry\"],\n",
    "                        rail_graph.station_coordinates[start].latitude,\n",
    "                        rail_graph.station_coordinates[start].longitude,\n",
    "                    )\n",
    "                ),\n",
    "                None,\n",
    "            )\n",
    "        )"
   ]
  },
  {
   "cell_type": "code",
   "execution_count": 2,
   "metadata": {},
   "outputs": [],
   "source": [
    "planning_area_to_region = {\n",
    "    \"ANG MO KIO\": \"NORTH-EAST\",\n",
    "    \"BEDOK\": \"EAST\",\n",
    "    \"BISHAN\": \"CENTRAL\",\n",
    "    \"BOON LAY\": \"WEST\",\n",
    "    \"BUKIT BATOK\": \"WEST\",\n",
    "    \"BUKIT MERAH\": \"CENTRAL\",\n",
    "    \"BUKIT PANJANG\": \"WEST\",\n",
    "    \"BUKIT TIMAH\": \"CENTRAL\",\n",
    "    \"CENTRAL WATER CATCHMENT\": \"NORTH\",\n",
    "    \"CHANGI\": \"EAST\",\n",
    "    \"CHANGI BAY\": \"EAST\",\n",
    "    \"CHOA CHU KANG\": \"WEST\",\n",
    "    \"CLEMENTI\": \"WEST\",\n",
    "    \"DOWNTOWN CORE\": \"CENTRAL\",\n",
    "    \"GEYLANG\": \"CENTRAL\",\n",
    "    \"HOUGANG\": \"NORTH-EAST\",\n",
    "    \"JURONG EAST\": \"WEST\",\n",
    "    \"JURONG WEST\": \"WEST\",\n",
    "    \"KALLANG\": \"CENTRAL\",\n",
    "    \"LIM CHU KANG\": \"NORTH\",\n",
    "    \"MANDAI\": \"NORTH\",\n",
    "    \"MARINA EAST\": \"CENTRAL\",\n",
    "    \"MARINA SOUTH\": \"CENTRAL\",\n",
    "    \"MARINE PARADE\": \"CENTRAL\",\n",
    "    \"MUSEUM\": \"CENTRAL\",\n",
    "    \"NEWTON\": \"CENTRAL\",\n",
    "    \"NORTH-EASTERN ISLANDS\": \"NORTH-EAST\",\n",
    "    \"NOVENA\": \"CENTRAL\",\n",
    "    \"ORCHARD\": \"CENTRAL\",\n",
    "    \"OUTRAM\": \"CENTRAL\",\n",
    "    \"PASIR RIS\": \"EAST\",\n",
    "    \"PAYA LEBAR\": \"EAST\",\n",
    "    \"PIONEER\": \"WEST\",\n",
    "    \"PUNGGOL\": \"NORTH-EAST\",\n",
    "    \"QUEENSTOWN\": \"CENTRAL\",\n",
    "    \"RIVER VALLEY\": \"CENTRAL\",\n",
    "    \"ROCHOR\": \"CENTRAL\",\n",
    "    \"SELETAR\": \"NORTH-EAST\",\n",
    "    \"SEMBAWANG\": \"NORTH\",\n",
    "    \"SENGKANG\": \"NORTH-EAST\",\n",
    "    \"SERANGOON\": \"NORTH-EAST\",\n",
    "    \"SIMPANG\": \"NORTH\",\n",
    "    \"SINGAPORE RIVER\": \"CENTRAL\",\n",
    "    \"SOUTHERN ISLANDS\": \"CENTRAL\",\n",
    "    \"STRAITS VIEW\": \"CENTRAL\",\n",
    "    \"SUNGEI KADUT\": \"NORTH\",\n",
    "    \"TAMPINES\": \"EAST\",\n",
    "    \"TANGLIN\": \"CENTRAL\",\n",
    "    \"TENGAH\": \"WEST\",\n",
    "    \"TOA PAYOH\": \"CENTRAL\",\n",
    "    \"TUAS\": \"WEST\",\n",
    "    \"WESTERN ISLANDS\": \"WEST\",\n",
    "    \"WESTERN WATER CATCHMENT\": \"WEST\",\n",
    "    \"WOODLANDS\": \"NORTH\",\n",
    "    \"YISHUN\": \"NORTH\",\n",
    "}\n",
    "planning_area_to_region_df = (\n",
    "    pd.DataFrame.from_dict(planning_area_to_region, orient=\"index\", columns=[\"region\"])\n",
    "    .reset_index(0)\n",
    "    .rename(columns={\"index\": \"planning_area\"})\n",
    ")"
   ]
  },
  {
   "cell_type": "code",
   "execution_count": 9,
   "metadata": {},
   "outputs": [
    {
     "name": "stdout",
     "output_type": "stream",
     "text": [
      "Number of active planning areas: 41\n",
      "     planning_area  mean_path_distance  mean_haversine_distance  \\\n",
      "0           NEWTON        10001.637216              7973.126369   \n",
      "1           ROCHOR        10194.051959              8085.013272   \n",
      "2           MUSEUM        10260.895622              8313.172155   \n",
      "3          ORCHARD        10615.232975              8295.278307   \n",
      "4  SINGAPORE RIVER        10730.741859              8656.832768   \n",
      "\n",
      "   mean_circuity   region  \n",
      "0       1.288694  CENTRAL  \n",
      "1       1.337619  CENTRAL  \n",
      "2       1.268227  CENTRAL  \n",
      "3       1.313227  CENTRAL  \n",
      "4       1.307112  CENTRAL  \n"
     ]
    },
    {
     "data": {
      "application/vnd.plotly.v1+json": {
       "config": {
        "plotlyServerURL": "https://plot.ly"
       },
       "data": [
        {
         "hovertemplate": "<b>%{hovertext}</b><br><br>Region=CENTRAL<br>Average Path Distance=%{x}<br>Average Circuity=%{y}<br>Planning Area=%{text}<extra></extra>",
         "hovertext": [
          "NEWTON",
          "ROCHOR",
          "MUSEUM",
          "ORCHARD",
          "SINGAPORE RIVER",
          "TANGLIN",
          "OUTRAM",
          "RIVER VALLEY",
          "NOVENA",
          "DOWNTOWN CORE",
          "TOA PAYOH",
          "KALLANG",
          "BISHAN",
          "GEYLANG",
          "STRAITS VIEW",
          "BUKIT TIMAH",
          "BUKIT MERAH",
          "MARINA SOUTH",
          "QUEENSTOWN",
          "MARINE PARADE"
         ],
         "legendgroup": "CENTRAL",
         "marker": {
          "color": "#ffa15a",
          "symbol": "circle"
         },
         "mode": "markers+text",
         "name": "CENTRAL",
         "orientation": "v",
         "showlegend": true,
         "text": [
          "NEWTON",
          "ROCHOR",
          "MUSEUM",
          "ORCHARD",
          "SINGAPORE RIVER",
          "TANGLIN",
          "OUTRAM",
          "RIVER VALLEY",
          "NOVENA",
          "DOWNTOWN CORE",
          "TOA PAYOH",
          "KALLANG",
          "BISHAN",
          "GEYLANG",
          "STRAITS VIEW",
          "BUKIT TIMAH",
          "BUKIT MERAH",
          "MARINA SOUTH",
          "QUEENSTOWN",
          "MARINE PARADE"
         ],
         "textfont": {
          "size": 10
         },
         "textposition": "top center",
         "type": "scatter",
         "x": [
          10001.63721589463,
          10194.051958853563,
          10260.895621536638,
          10615.232974531094,
          10730.741858813966,
          10825.785099906536,
          11079.869684936742,
          11140.144720339327,
          11163.83137930135,
          11204.14880917045,
          11422.480113726811,
          11582.476290939618,
          12069.828352112247,
          12406.115531742016,
          12774.670264248654,
          12900.017543411052,
          12928.208702268998,
          13232.797317787668,
          13836.31487539813,
          18278.981898587954
         ],
         "xaxis": "x",
         "y": [
          1.2886937535892424,
          1.3376194419696137,
          1.268226928450212,
          1.3132272620022378,
          1.307111778463681,
          1.3022989661035276,
          1.2333362215270969,
          1.3589973172786725,
          1.5242521707630763,
          1.269817911419155,
          1.4961322872729925,
          1.545801894982906,
          1.4933851120549133,
          1.4774813694554976,
          1.2710236167944442,
          1.372412849547958,
          1.3211745637690337,
          1.42537091833796,
          1.3349433857369923,
          2.145190383238595
         ],
         "yaxis": "y"
        },
        {
         "hovertemplate": "<b>%{hovertext}</b><br><br>Region=NORTH-EAST<br>Average Path Distance=%{x}<br>Average Circuity=%{y}<br>Planning Area=%{text}<extra></extra>",
         "hovertext": [
          "SERANGOON",
          "HOUGANG",
          "ANG MO KIO",
          "SENGKANG",
          "PUNGGOL"
         ],
         "legendgroup": "NORTH-EAST",
         "marker": {
          "color": "fuchsia",
          "symbol": "circle"
         },
         "mode": "markers+text",
         "name": "NORTH-EAST",
         "orientation": "v",
         "showlegend": true,
         "text": [
          "SERANGOON",
          "HOUGANG",
          "ANG MO KIO",
          "SENGKANG",
          "PUNGGOL"
         ],
         "textfont": {
          "size": 10
         },
         "textposition": "top center",
         "type": "scatter",
         "x": [
          11193.708060622164,
          12583.100226380135,
          14501.851338338052,
          16113.909524813696,
          17527.586442974993
         ],
         "xaxis": "x",
         "y": [
          1.354242760474996,
          1.416202328066302,
          1.6956053776561266,
          1.5839575631895297,
          1.5266222772276143
         ],
         "yaxis": "y"
        },
        {
         "hovertemplate": "<b>%{hovertext}</b><br><br>Region=WEST<br>Average Path Distance=%{x}<br>Average Circuity=%{y}<br>Planning Area=%{text}<extra></extra>",
         "hovertext": [
          "CLEMENTI",
          "JURONG EAST",
          "BUKIT PANJANG",
          "BUKIT BATOK",
          "CHOA CHU KANG",
          "JURONG WEST",
          "PIONEER",
          "TUAS"
         ],
         "legendgroup": "WEST",
         "marker": {
          "color": "#636efa",
          "symbol": "circle"
         },
         "mode": "markers+text",
         "name": "WEST",
         "orientation": "v",
         "showlegend": true,
         "text": [
          "CLEMENTI",
          "JURONG EAST",
          "BUKIT PANJANG",
          "BUKIT BATOK",
          "CHOA CHU KANG",
          "JURONG WEST",
          "PIONEER",
          "TUAS"
         ],
         "textfont": {
          "size": 10
         },
         "textposition": "top center",
         "type": "scatter",
         "x": [
          14883.581584542826,
          17418.422546766382,
          18036.759513566576,
          18365.680430432858,
          19522.62314366394,
          20896.426167867943,
          25402.571663978968,
          29082.579921682653
         ],
         "xaxis": "x",
         "y": [
          1.3061100170087554,
          1.3107586247530623,
          1.5318004662299376,
          1.5058070967790371,
          1.4313736028691633,
          1.3009388243037028,
          1.2535657994510911,
          1.2590345455126186
         ],
         "yaxis": "y"
        },
        {
         "hovertemplate": "<b>%{hovertext}</b><br><br>Region=EAST<br>Average Path Distance=%{x}<br>Average Circuity=%{y}<br>Planning Area=%{text}<extra></extra>",
         "hovertext": [
          "BEDOK",
          "TAMPINES",
          "PASIR RIS",
          "CHANGI"
         ],
         "legendgroup": "EAST",
         "marker": {
          "color": "#00cc96",
          "symbol": "circle"
         },
         "mode": "markers+text",
         "name": "EAST",
         "orientation": "v",
         "showlegend": true,
         "text": [
          "BEDOK",
          "TAMPINES",
          "PASIR RIS",
          "CHANGI"
         ],
         "textfont": {
          "size": 10
         },
         "textposition": "top center",
         "type": "scatter",
         "x": [
          17112.552830707613,
          19550.845934572266,
          22070.006251286763,
          23063.58439176674
         ],
         "xaxis": "x",
         "y": [
          1.7065939964404695,
          1.5790929554745898,
          1.84766672456895,
          1.435913522597106
         ],
         "yaxis": "y"
        },
        {
         "hovertemplate": "<b>%{hovertext}</b><br><br>Region=NORTH<br>Average Path Distance=%{x}<br>Average Circuity=%{y}<br>Planning Area=%{text}<extra></extra>",
         "hovertext": [
          "YISHUN",
          "SEMBAWANG",
          "WOODLANDS",
          "SUNGEI KADUT"
         ],
         "legendgroup": "NORTH",
         "marker": {
          "color": "#ef553b",
          "symbol": "circle"
         },
         "mode": "markers+text",
         "name": "NORTH",
         "orientation": "v",
         "showlegend": true,
         "text": [
          "YISHUN",
          "SEMBAWANG",
          "WOODLANDS",
          "SUNGEI KADUT"
         ],
         "textfont": {
          "size": 10
         },
         "textposition": "top center",
         "type": "scatter",
         "x": [
          17681.864694260683,
          19494.354928246416,
          21098.224986001613,
          22418.446212501083
         ],
         "xaxis": "x",
         "y": [
          1.6153691284189462,
          1.4214845524150255,
          1.4650411625153426,
          1.4804611437700295
         ],
         "yaxis": "y"
        }
       ],
       "layout": {
        "height": 800,
        "legend": {
         "title": {
          "text": "Region"
         },
         "tracegroupgap": 0
        },
        "template": {
         "data": {
          "bar": [
           {
            "error_x": {
             "color": "#2a3f5f"
            },
            "error_y": {
             "color": "#2a3f5f"
            },
            "marker": {
             "line": {
              "color": "#E5ECF6",
              "width": 0.5
             },
             "pattern": {
              "fillmode": "overlay",
              "size": 10,
              "solidity": 0.2
             }
            },
            "type": "bar"
           }
          ],
          "barpolar": [
           {
            "marker": {
             "line": {
              "color": "#E5ECF6",
              "width": 0.5
             },
             "pattern": {
              "fillmode": "overlay",
              "size": 10,
              "solidity": 0.2
             }
            },
            "type": "barpolar"
           }
          ],
          "carpet": [
           {
            "aaxis": {
             "endlinecolor": "#2a3f5f",
             "gridcolor": "white",
             "linecolor": "white",
             "minorgridcolor": "white",
             "startlinecolor": "#2a3f5f"
            },
            "baxis": {
             "endlinecolor": "#2a3f5f",
             "gridcolor": "white",
             "linecolor": "white",
             "minorgridcolor": "white",
             "startlinecolor": "#2a3f5f"
            },
            "type": "carpet"
           }
          ],
          "choropleth": [
           {
            "colorbar": {
             "outlinewidth": 0,
             "ticks": ""
            },
            "type": "choropleth"
           }
          ],
          "contour": [
           {
            "colorbar": {
             "outlinewidth": 0,
             "ticks": ""
            },
            "colorscale": [
             [
              0,
              "#0d0887"
             ],
             [
              0.1111111111111111,
              "#46039f"
             ],
             [
              0.2222222222222222,
              "#7201a8"
             ],
             [
              0.3333333333333333,
              "#9c179e"
             ],
             [
              0.4444444444444444,
              "#bd3786"
             ],
             [
              0.5555555555555556,
              "#d8576b"
             ],
             [
              0.6666666666666666,
              "#ed7953"
             ],
             [
              0.7777777777777778,
              "#fb9f3a"
             ],
             [
              0.8888888888888888,
              "#fdca26"
             ],
             [
              1,
              "#f0f921"
             ]
            ],
            "type": "contour"
           }
          ],
          "contourcarpet": [
           {
            "colorbar": {
             "outlinewidth": 0,
             "ticks": ""
            },
            "type": "contourcarpet"
           }
          ],
          "heatmap": [
           {
            "colorbar": {
             "outlinewidth": 0,
             "ticks": ""
            },
            "colorscale": [
             [
              0,
              "#0d0887"
             ],
             [
              0.1111111111111111,
              "#46039f"
             ],
             [
              0.2222222222222222,
              "#7201a8"
             ],
             [
              0.3333333333333333,
              "#9c179e"
             ],
             [
              0.4444444444444444,
              "#bd3786"
             ],
             [
              0.5555555555555556,
              "#d8576b"
             ],
             [
              0.6666666666666666,
              "#ed7953"
             ],
             [
              0.7777777777777778,
              "#fb9f3a"
             ],
             [
              0.8888888888888888,
              "#fdca26"
             ],
             [
              1,
              "#f0f921"
             ]
            ],
            "type": "heatmap"
           }
          ],
          "heatmapgl": [
           {
            "colorbar": {
             "outlinewidth": 0,
             "ticks": ""
            },
            "colorscale": [
             [
              0,
              "#0d0887"
             ],
             [
              0.1111111111111111,
              "#46039f"
             ],
             [
              0.2222222222222222,
              "#7201a8"
             ],
             [
              0.3333333333333333,
              "#9c179e"
             ],
             [
              0.4444444444444444,
              "#bd3786"
             ],
             [
              0.5555555555555556,
              "#d8576b"
             ],
             [
              0.6666666666666666,
              "#ed7953"
             ],
             [
              0.7777777777777778,
              "#fb9f3a"
             ],
             [
              0.8888888888888888,
              "#fdca26"
             ],
             [
              1,
              "#f0f921"
             ]
            ],
            "type": "heatmapgl"
           }
          ],
          "histogram": [
           {
            "marker": {
             "pattern": {
              "fillmode": "overlay",
              "size": 10,
              "solidity": 0.2
             }
            },
            "type": "histogram"
           }
          ],
          "histogram2d": [
           {
            "colorbar": {
             "outlinewidth": 0,
             "ticks": ""
            },
            "colorscale": [
             [
              0,
              "#0d0887"
             ],
             [
              0.1111111111111111,
              "#46039f"
             ],
             [
              0.2222222222222222,
              "#7201a8"
             ],
             [
              0.3333333333333333,
              "#9c179e"
             ],
             [
              0.4444444444444444,
              "#bd3786"
             ],
             [
              0.5555555555555556,
              "#d8576b"
             ],
             [
              0.6666666666666666,
              "#ed7953"
             ],
             [
              0.7777777777777778,
              "#fb9f3a"
             ],
             [
              0.8888888888888888,
              "#fdca26"
             ],
             [
              1,
              "#f0f921"
             ]
            ],
            "type": "histogram2d"
           }
          ],
          "histogram2dcontour": [
           {
            "colorbar": {
             "outlinewidth": 0,
             "ticks": ""
            },
            "colorscale": [
             [
              0,
              "#0d0887"
             ],
             [
              0.1111111111111111,
              "#46039f"
             ],
             [
              0.2222222222222222,
              "#7201a8"
             ],
             [
              0.3333333333333333,
              "#9c179e"
             ],
             [
              0.4444444444444444,
              "#bd3786"
             ],
             [
              0.5555555555555556,
              "#d8576b"
             ],
             [
              0.6666666666666666,
              "#ed7953"
             ],
             [
              0.7777777777777778,
              "#fb9f3a"
             ],
             [
              0.8888888888888888,
              "#fdca26"
             ],
             [
              1,
              "#f0f921"
             ]
            ],
            "type": "histogram2dcontour"
           }
          ],
          "mesh3d": [
           {
            "colorbar": {
             "outlinewidth": 0,
             "ticks": ""
            },
            "type": "mesh3d"
           }
          ],
          "parcoords": [
           {
            "line": {
             "colorbar": {
              "outlinewidth": 0,
              "ticks": ""
             }
            },
            "type": "parcoords"
           }
          ],
          "pie": [
           {
            "automargin": true,
            "type": "pie"
           }
          ],
          "scatter": [
           {
            "fillpattern": {
             "fillmode": "overlay",
             "size": 10,
             "solidity": 0.2
            },
            "type": "scatter"
           }
          ],
          "scatter3d": [
           {
            "line": {
             "colorbar": {
              "outlinewidth": 0,
              "ticks": ""
             }
            },
            "marker": {
             "colorbar": {
              "outlinewidth": 0,
              "ticks": ""
             }
            },
            "type": "scatter3d"
           }
          ],
          "scattercarpet": [
           {
            "marker": {
             "colorbar": {
              "outlinewidth": 0,
              "ticks": ""
             }
            },
            "type": "scattercarpet"
           }
          ],
          "scattergeo": [
           {
            "marker": {
             "colorbar": {
              "outlinewidth": 0,
              "ticks": ""
             }
            },
            "type": "scattergeo"
           }
          ],
          "scattergl": [
           {
            "marker": {
             "colorbar": {
              "outlinewidth": 0,
              "ticks": ""
             }
            },
            "type": "scattergl"
           }
          ],
          "scattermapbox": [
           {
            "marker": {
             "colorbar": {
              "outlinewidth": 0,
              "ticks": ""
             }
            },
            "type": "scattermapbox"
           }
          ],
          "scatterpolar": [
           {
            "marker": {
             "colorbar": {
              "outlinewidth": 0,
              "ticks": ""
             }
            },
            "type": "scatterpolar"
           }
          ],
          "scatterpolargl": [
           {
            "marker": {
             "colorbar": {
              "outlinewidth": 0,
              "ticks": ""
             }
            },
            "type": "scatterpolargl"
           }
          ],
          "scatterternary": [
           {
            "marker": {
             "colorbar": {
              "outlinewidth": 0,
              "ticks": ""
             }
            },
            "type": "scatterternary"
           }
          ],
          "surface": [
           {
            "colorbar": {
             "outlinewidth": 0,
             "ticks": ""
            },
            "colorscale": [
             [
              0,
              "#0d0887"
             ],
             [
              0.1111111111111111,
              "#46039f"
             ],
             [
              0.2222222222222222,
              "#7201a8"
             ],
             [
              0.3333333333333333,
              "#9c179e"
             ],
             [
              0.4444444444444444,
              "#bd3786"
             ],
             [
              0.5555555555555556,
              "#d8576b"
             ],
             [
              0.6666666666666666,
              "#ed7953"
             ],
             [
              0.7777777777777778,
              "#fb9f3a"
             ],
             [
              0.8888888888888888,
              "#fdca26"
             ],
             [
              1,
              "#f0f921"
             ]
            ],
            "type": "surface"
           }
          ],
          "table": [
           {
            "cells": {
             "fill": {
              "color": "#EBF0F8"
             },
             "line": {
              "color": "white"
             }
            },
            "header": {
             "fill": {
              "color": "#C8D4E3"
             },
             "line": {
              "color": "white"
             }
            },
            "type": "table"
           }
          ]
         },
         "layout": {
          "annotationdefaults": {
           "arrowcolor": "#2a3f5f",
           "arrowhead": 0,
           "arrowwidth": 1
          },
          "autotypenumbers": "strict",
          "coloraxis": {
           "colorbar": {
            "outlinewidth": 0,
            "ticks": ""
           }
          },
          "colorscale": {
           "diverging": [
            [
             0,
             "#8e0152"
            ],
            [
             0.1,
             "#c51b7d"
            ],
            [
             0.2,
             "#de77ae"
            ],
            [
             0.3,
             "#f1b6da"
            ],
            [
             0.4,
             "#fde0ef"
            ],
            [
             0.5,
             "#f7f7f7"
            ],
            [
             0.6,
             "#e6f5d0"
            ],
            [
             0.7,
             "#b8e186"
            ],
            [
             0.8,
             "#7fbc41"
            ],
            [
             0.9,
             "#4d9221"
            ],
            [
             1,
             "#276419"
            ]
           ],
           "sequential": [
            [
             0,
             "#0d0887"
            ],
            [
             0.1111111111111111,
             "#46039f"
            ],
            [
             0.2222222222222222,
             "#7201a8"
            ],
            [
             0.3333333333333333,
             "#9c179e"
            ],
            [
             0.4444444444444444,
             "#bd3786"
            ],
            [
             0.5555555555555556,
             "#d8576b"
            ],
            [
             0.6666666666666666,
             "#ed7953"
            ],
            [
             0.7777777777777778,
             "#fb9f3a"
            ],
            [
             0.8888888888888888,
             "#fdca26"
            ],
            [
             1,
             "#f0f921"
            ]
           ],
           "sequentialminus": [
            [
             0,
             "#0d0887"
            ],
            [
             0.1111111111111111,
             "#46039f"
            ],
            [
             0.2222222222222222,
             "#7201a8"
            ],
            [
             0.3333333333333333,
             "#9c179e"
            ],
            [
             0.4444444444444444,
             "#bd3786"
            ],
            [
             0.5555555555555556,
             "#d8576b"
            ],
            [
             0.6666666666666666,
             "#ed7953"
            ],
            [
             0.7777777777777778,
             "#fb9f3a"
            ],
            [
             0.8888888888888888,
             "#fdca26"
            ],
            [
             1,
             "#f0f921"
            ]
           ]
          },
          "colorway": [
           "#636efa",
           "#EF553B",
           "#00cc96",
           "#ab63fa",
           "#FFA15A",
           "#19d3f3",
           "#FF6692",
           "#B6E880",
           "#FF97FF",
           "#FECB52"
          ],
          "font": {
           "color": "#2a3f5f"
          },
          "geo": {
           "bgcolor": "white",
           "lakecolor": "white",
           "landcolor": "#E5ECF6",
           "showlakes": true,
           "showland": true,
           "subunitcolor": "white"
          },
          "hoverlabel": {
           "align": "left"
          },
          "hovermode": "closest",
          "mapbox": {
           "style": "light"
          },
          "paper_bgcolor": "white",
          "plot_bgcolor": "#E5ECF6",
          "polar": {
           "angularaxis": {
            "gridcolor": "white",
            "linecolor": "white",
            "ticks": ""
           },
           "bgcolor": "#E5ECF6",
           "radialaxis": {
            "gridcolor": "white",
            "linecolor": "white",
            "ticks": ""
           }
          },
          "scene": {
           "xaxis": {
            "backgroundcolor": "#E5ECF6",
            "gridcolor": "white",
            "gridwidth": 2,
            "linecolor": "white",
            "showbackground": true,
            "ticks": "",
            "zerolinecolor": "white"
           },
           "yaxis": {
            "backgroundcolor": "#E5ECF6",
            "gridcolor": "white",
            "gridwidth": 2,
            "linecolor": "white",
            "showbackground": true,
            "ticks": "",
            "zerolinecolor": "white"
           },
           "zaxis": {
            "backgroundcolor": "#E5ECF6",
            "gridcolor": "white",
            "gridwidth": 2,
            "linecolor": "white",
            "showbackground": true,
            "ticks": "",
            "zerolinecolor": "white"
           }
          },
          "shapedefaults": {
           "line": {
            "color": "#2a3f5f"
           }
          },
          "ternary": {
           "aaxis": {
            "gridcolor": "white",
            "linecolor": "white",
            "ticks": ""
           },
           "baxis": {
            "gridcolor": "white",
            "linecolor": "white",
            "ticks": ""
           },
           "bgcolor": "#E5ECF6",
           "caxis": {
            "gridcolor": "white",
            "linecolor": "white",
            "ticks": ""
           }
          },
          "title": {
           "x": 0.05
          },
          "xaxis": {
           "automargin": true,
           "gridcolor": "white",
           "linecolor": "white",
           "ticks": "",
           "title": {
            "standoff": 15
           },
           "zerolinecolor": "white",
           "zerolinewidth": 2
          },
          "yaxis": {
           "automargin": true,
           "gridcolor": "white",
           "linecolor": "white",
           "ticks": "",
           "title": {
            "standoff": 15
           },
           "zerolinecolor": "white",
           "zerolinewidth": 2
          }
         }
        },
        "title": {
         "text": "Average Circuity against Average Path Distance to all other stations (Averaged By Planning Area)",
         "x": 0.5
        },
        "width": 1500,
        "xaxis": {
         "anchor": "y",
         "domain": [
          0,
          1
         ],
         "tickformat": "",
         "ticksuffix": "m",
         "title": {
          "text": "Average Path Distance"
         },
         "type": "log"
        },
        "yaxis": {
         "anchor": "x",
         "domain": [
          0,
          1
         ],
         "title": {
          "text": "Average Circuity"
         }
        }
       }
      }
     },
     "metadata": {},
     "output_type": "display_data"
    }
   ],
   "source": [
    "kdf = (\n",
    "    mean_distances_per_station_by_stage[\"tel_4\"]\n",
    "    .groupby(by=\"planning_area\")\n",
    "    .mean(numeric_only=True)\n",
    "    .reset_index(0)\n",
    "    .sort_values(by=[\"mean_path_distance\"])\n",
    ").merge(planning_area_to_region_df, on=\"planning_area\", how=\"left\")\n",
    "print(\"Number of active planning areas:\", len(kdf[\"planning_area\"]))\n",
    "print(kdf.head(5))\n",
    "\n",
    "fig = px.scatter(\n",
    "    kdf,\n",
    "    title=\"Average Circuity against Average Path Distance to all other stations (Averaged By Planning Area)\",\n",
    "    x=\"mean_path_distance\",\n",
    "    y=\"mean_circuity\",\n",
    "    labels={\n",
    "        \"mean_path_distance\": \"Average Path Distance\",\n",
    "        \"mean_circuity\": \"Average Circuity\",\n",
    "        \"planning_area\": \"Planning Area\",\n",
    "        \"region\": \"Region\",\n",
    "    },\n",
    "    size=None,\n",
    "    color=\"region\",\n",
    "    color_discrete_map={\n",
    "        \"CENTRAL\": \"#ffa15a\",\n",
    "        \"WEST\": \"#636efa\",\n",
    "        \"EAST\": \"#00cc96\",\n",
    "        \"NORTH-EAST\": \"fuchsia\",\n",
    "        \"NORTH\": \"#ef553b\",\n",
    "    },\n",
    "    text=\"planning_area\",\n",
    "    hover_name=\"planning_area\",\n",
    "    log_x=True,\n",
    "    log_y=False,\n",
    "    size_max=10,\n",
    "    width=1500,\n",
    "    height=800,\n",
    ")\n",
    "fig.update_layout(title={\"x\": 0.5}, xaxis=dict(tickformat=\"\", ticksuffix=\"m\"))\n",
    "fig.update_traces(textposition=\"top center\", textfont_size=10)\n",
    "fig.show()"
   ]
  },
  {
   "cell_type": "code",
   "execution_count": null,
   "metadata": {},
   "outputs": [],
   "source": [
    "mean_distances_per_station_by_stage[\"bplrt\"]"
   ]
  },
  {
   "cell_type": "code",
   "execution_count": null,
   "metadata": {},
   "outputs": [],
   "source": []
  }
 ],
 "metadata": {
  "kernelspec": {
   "display_name": "base",
   "language": "python",
   "name": "python3"
  },
  "language_info": {
   "codemirror_mode": {
    "name": "ipython",
    "version": 3
   },
   "file_extension": ".py",
   "mimetype": "text/x-python",
   "name": "python",
   "nbconvert_exporter": "python",
   "pygments_lexer": "ipython3",
   "version": "3.12.4"
  }
 },
 "nbformat": 4,
 "nbformat_minor": 2
}
